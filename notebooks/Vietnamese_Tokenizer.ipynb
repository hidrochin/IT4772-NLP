{
  "nbformat": 4,
  "nbformat_minor": 0,
  "metadata": {
    "colab": {
      "provenance": [],
      "authorship_tag": "ABX9TyO49Ktw0Vt4Iby37l6P8zGv",
      "include_colab_link": true
    },
    "kernelspec": {
      "name": "python3",
      "display_name": "Python 3"
    },
    "language_info": {
      "name": "python"
    },
    "widgets": {
      "application/vnd.jupyter.widget-state+json": {
        "3943f55e6785421681e5d8b01fc72806": {
          "model_module": "@jupyter-widgets/controls",
          "model_name": "HBoxModel",
          "model_module_version": "1.5.0",
          "state": {
            "_dom_classes": [],
            "_model_module": "@jupyter-widgets/controls",
            "_model_module_version": "1.5.0",
            "_model_name": "HBoxModel",
            "_view_count": null,
            "_view_module": "@jupyter-widgets/controls",
            "_view_module_version": "1.5.0",
            "_view_name": "HBoxView",
            "box_style": "",
            "children": [
              "IPY_MODEL_ed76cdd740a846bcb62f2209cc5e36dd",
              "IPY_MODEL_929f08bbd1ed413e9c3ce4045c8e15bb",
              "IPY_MODEL_924aa5a482d445d192463d88e75cc08f"
            ],
            "layout": "IPY_MODEL_eec677868c1e4d608a57e6dcdb3c2921"
          }
        },
        "ed76cdd740a846bcb62f2209cc5e36dd": {
          "model_module": "@jupyter-widgets/controls",
          "model_name": "HTMLModel",
          "model_module_version": "1.5.0",
          "state": {
            "_dom_classes": [],
            "_model_module": "@jupyter-widgets/controls",
            "_model_module_version": "1.5.0",
            "_model_name": "HTMLModel",
            "_view_count": null,
            "_view_module": "@jupyter-widgets/controls",
            "_view_module_version": "1.5.0",
            "_view_name": "HTMLView",
            "description": "",
            "description_tooltip": null,
            "layout": "IPY_MODEL_f8bd2c1736e84d6b81926461c1576d77",
            "placeholder": "​",
            "style": "IPY_MODEL_c1a657c0dfec4b9cad9ff6df2cc5eb72",
            "value": "README.md: 100%"
          }
        },
        "929f08bbd1ed413e9c3ce4045c8e15bb": {
          "model_module": "@jupyter-widgets/controls",
          "model_name": "FloatProgressModel",
          "model_module_version": "1.5.0",
          "state": {
            "_dom_classes": [],
            "_model_module": "@jupyter-widgets/controls",
            "_model_module_version": "1.5.0",
            "_model_name": "FloatProgressModel",
            "_view_count": null,
            "_view_module": "@jupyter-widgets/controls",
            "_view_module_version": "1.5.0",
            "_view_name": "ProgressView",
            "bar_style": "success",
            "description": "",
            "description_tooltip": null,
            "layout": "IPY_MODEL_563ac0e4a68b41b3961d096316779fb2",
            "max": 114,
            "min": 0,
            "orientation": "horizontal",
            "style": "IPY_MODEL_dbb7fbb2bcca4d55a960e55debfc3e8a",
            "value": 114
          }
        },
        "924aa5a482d445d192463d88e75cc08f": {
          "model_module": "@jupyter-widgets/controls",
          "model_name": "HTMLModel",
          "model_module_version": "1.5.0",
          "state": {
            "_dom_classes": [],
            "_model_module": "@jupyter-widgets/controls",
            "_model_module_version": "1.5.0",
            "_model_name": "HTMLModel",
            "_view_count": null,
            "_view_module": "@jupyter-widgets/controls",
            "_view_module_version": "1.5.0",
            "_view_name": "HTMLView",
            "description": "",
            "description_tooltip": null,
            "layout": "IPY_MODEL_9250be8bb46b46c49c9187bea0f5c365",
            "placeholder": "​",
            "style": "IPY_MODEL_b29b59e1cb3b4a9698ea433480875f0a",
            "value": " 114/114 [00:00&lt;00:00, 12.9kB/s]"
          }
        },
        "eec677868c1e4d608a57e6dcdb3c2921": {
          "model_module": "@jupyter-widgets/base",
          "model_name": "LayoutModel",
          "model_module_version": "1.2.0",
          "state": {
            "_model_module": "@jupyter-widgets/base",
            "_model_module_version": "1.2.0",
            "_model_name": "LayoutModel",
            "_view_count": null,
            "_view_module": "@jupyter-widgets/base",
            "_view_module_version": "1.2.0",
            "_view_name": "LayoutView",
            "align_content": null,
            "align_items": null,
            "align_self": null,
            "border": null,
            "bottom": null,
            "display": null,
            "flex": null,
            "flex_flow": null,
            "grid_area": null,
            "grid_auto_columns": null,
            "grid_auto_flow": null,
            "grid_auto_rows": null,
            "grid_column": null,
            "grid_gap": null,
            "grid_row": null,
            "grid_template_areas": null,
            "grid_template_columns": null,
            "grid_template_rows": null,
            "height": null,
            "justify_content": null,
            "justify_items": null,
            "left": null,
            "margin": null,
            "max_height": null,
            "max_width": null,
            "min_height": null,
            "min_width": null,
            "object_fit": null,
            "object_position": null,
            "order": null,
            "overflow": null,
            "overflow_x": null,
            "overflow_y": null,
            "padding": null,
            "right": null,
            "top": null,
            "visibility": null,
            "width": null
          }
        },
        "f8bd2c1736e84d6b81926461c1576d77": {
          "model_module": "@jupyter-widgets/base",
          "model_name": "LayoutModel",
          "model_module_version": "1.2.0",
          "state": {
            "_model_module": "@jupyter-widgets/base",
            "_model_module_version": "1.2.0",
            "_model_name": "LayoutModel",
            "_view_count": null,
            "_view_module": "@jupyter-widgets/base",
            "_view_module_version": "1.2.0",
            "_view_name": "LayoutView",
            "align_content": null,
            "align_items": null,
            "align_self": null,
            "border": null,
            "bottom": null,
            "display": null,
            "flex": null,
            "flex_flow": null,
            "grid_area": null,
            "grid_auto_columns": null,
            "grid_auto_flow": null,
            "grid_auto_rows": null,
            "grid_column": null,
            "grid_gap": null,
            "grid_row": null,
            "grid_template_areas": null,
            "grid_template_columns": null,
            "grid_template_rows": null,
            "height": null,
            "justify_content": null,
            "justify_items": null,
            "left": null,
            "margin": null,
            "max_height": null,
            "max_width": null,
            "min_height": null,
            "min_width": null,
            "object_fit": null,
            "object_position": null,
            "order": null,
            "overflow": null,
            "overflow_x": null,
            "overflow_y": null,
            "padding": null,
            "right": null,
            "top": null,
            "visibility": null,
            "width": null
          }
        },
        "c1a657c0dfec4b9cad9ff6df2cc5eb72": {
          "model_module": "@jupyter-widgets/controls",
          "model_name": "DescriptionStyleModel",
          "model_module_version": "1.5.0",
          "state": {
            "_model_module": "@jupyter-widgets/controls",
            "_model_module_version": "1.5.0",
            "_model_name": "DescriptionStyleModel",
            "_view_count": null,
            "_view_module": "@jupyter-widgets/base",
            "_view_module_version": "1.2.0",
            "_view_name": "StyleView",
            "description_width": ""
          }
        },
        "563ac0e4a68b41b3961d096316779fb2": {
          "model_module": "@jupyter-widgets/base",
          "model_name": "LayoutModel",
          "model_module_version": "1.2.0",
          "state": {
            "_model_module": "@jupyter-widgets/base",
            "_model_module_version": "1.2.0",
            "_model_name": "LayoutModel",
            "_view_count": null,
            "_view_module": "@jupyter-widgets/base",
            "_view_module_version": "1.2.0",
            "_view_name": "LayoutView",
            "align_content": null,
            "align_items": null,
            "align_self": null,
            "border": null,
            "bottom": null,
            "display": null,
            "flex": null,
            "flex_flow": null,
            "grid_area": null,
            "grid_auto_columns": null,
            "grid_auto_flow": null,
            "grid_auto_rows": null,
            "grid_column": null,
            "grid_gap": null,
            "grid_row": null,
            "grid_template_areas": null,
            "grid_template_columns": null,
            "grid_template_rows": null,
            "height": null,
            "justify_content": null,
            "justify_items": null,
            "left": null,
            "margin": null,
            "max_height": null,
            "max_width": null,
            "min_height": null,
            "min_width": null,
            "object_fit": null,
            "object_position": null,
            "order": null,
            "overflow": null,
            "overflow_x": null,
            "overflow_y": null,
            "padding": null,
            "right": null,
            "top": null,
            "visibility": null,
            "width": null
          }
        },
        "dbb7fbb2bcca4d55a960e55debfc3e8a": {
          "model_module": "@jupyter-widgets/controls",
          "model_name": "ProgressStyleModel",
          "model_module_version": "1.5.0",
          "state": {
            "_model_module": "@jupyter-widgets/controls",
            "_model_module_version": "1.5.0",
            "_model_name": "ProgressStyleModel",
            "_view_count": null,
            "_view_module": "@jupyter-widgets/base",
            "_view_module_version": "1.2.0",
            "_view_name": "StyleView",
            "bar_color": null,
            "description_width": ""
          }
        },
        "9250be8bb46b46c49c9187bea0f5c365": {
          "model_module": "@jupyter-widgets/base",
          "model_name": "LayoutModel",
          "model_module_version": "1.2.0",
          "state": {
            "_model_module": "@jupyter-widgets/base",
            "_model_module_version": "1.2.0",
            "_model_name": "LayoutModel",
            "_view_count": null,
            "_view_module": "@jupyter-widgets/base",
            "_view_module_version": "1.2.0",
            "_view_name": "LayoutView",
            "align_content": null,
            "align_items": null,
            "align_self": null,
            "border": null,
            "bottom": null,
            "display": null,
            "flex": null,
            "flex_flow": null,
            "grid_area": null,
            "grid_auto_columns": null,
            "grid_auto_flow": null,
            "grid_auto_rows": null,
            "grid_column": null,
            "grid_gap": null,
            "grid_row": null,
            "grid_template_areas": null,
            "grid_template_columns": null,
            "grid_template_rows": null,
            "height": null,
            "justify_content": null,
            "justify_items": null,
            "left": null,
            "margin": null,
            "max_height": null,
            "max_width": null,
            "min_height": null,
            "min_width": null,
            "object_fit": null,
            "object_position": null,
            "order": null,
            "overflow": null,
            "overflow_x": null,
            "overflow_y": null,
            "padding": null,
            "right": null,
            "top": null,
            "visibility": null,
            "width": null
          }
        },
        "b29b59e1cb3b4a9698ea433480875f0a": {
          "model_module": "@jupyter-widgets/controls",
          "model_name": "DescriptionStyleModel",
          "model_module_version": "1.5.0",
          "state": {
            "_model_module": "@jupyter-widgets/controls",
            "_model_module_version": "1.5.0",
            "_model_name": "DescriptionStyleModel",
            "_view_count": null,
            "_view_module": "@jupyter-widgets/base",
            "_view_module_version": "1.2.0",
            "_view_name": "StyleView",
            "description_width": ""
          }
        },
        "fef3fe975ab348b88f134649f09a4214": {
          "model_module": "@jupyter-widgets/controls",
          "model_name": "HBoxModel",
          "model_module_version": "1.5.0",
          "state": {
            "_dom_classes": [],
            "_model_module": "@jupyter-widgets/controls",
            "_model_module_version": "1.5.0",
            "_model_name": "HBoxModel",
            "_view_count": null,
            "_view_module": "@jupyter-widgets/controls",
            "_view_module_version": "1.5.0",
            "_view_name": "HBoxView",
            "box_style": "",
            "children": [
              "IPY_MODEL_ae943796578141bfb8cb591c72101a5f",
              "IPY_MODEL_28914dc6bf454e698445e7a65282793a",
              "IPY_MODEL_eda51c294256421ea88eca18b3d23409"
            ],
            "layout": "IPY_MODEL_fdff8f3d42b9466998bd98afd4fd6195"
          }
        },
        "ae943796578141bfb8cb591c72101a5f": {
          "model_module": "@jupyter-widgets/controls",
          "model_name": "HTMLModel",
          "model_module_version": "1.5.0",
          "state": {
            "_dom_classes": [],
            "_model_module": "@jupyter-widgets/controls",
            "_model_module_version": "1.5.0",
            "_model_name": "HTMLModel",
            "_view_count": null,
            "_view_module": "@jupyter-widgets/controls",
            "_view_module_version": "1.5.0",
            "_view_name": "HTMLView",
            "description": "",
            "description_tooltip": null,
            "layout": "IPY_MODEL_6c9605bb7f91432aa3bfa7fb3c44c2ca",
            "placeholder": "​",
            "style": "IPY_MODEL_3fa2861400e24abba2171aae08510efb",
            "value": "vv30k.csv: "
          }
        },
        "28914dc6bf454e698445e7a65282793a": {
          "model_module": "@jupyter-widgets/controls",
          "model_name": "FloatProgressModel",
          "model_module_version": "1.5.0",
          "state": {
            "_dom_classes": [],
            "_model_module": "@jupyter-widgets/controls",
            "_model_module_version": "1.5.0",
            "_model_name": "FloatProgressModel",
            "_view_count": null,
            "_view_module": "@jupyter-widgets/controls",
            "_view_module_version": "1.5.0",
            "_view_name": "ProgressView",
            "bar_style": "success",
            "description": "",
            "description_tooltip": null,
            "layout": "IPY_MODEL_f161fc904cce4bc6bbfb016123859720",
            "max": 1,
            "min": 0,
            "orientation": "horizontal",
            "style": "IPY_MODEL_1b855b7fa7b94c83b68821c0c4845230",
            "value": 1
          }
        },
        "eda51c294256421ea88eca18b3d23409": {
          "model_module": "@jupyter-widgets/controls",
          "model_name": "HTMLModel",
          "model_module_version": "1.5.0",
          "state": {
            "_dom_classes": [],
            "_model_module": "@jupyter-widgets/controls",
            "_model_module_version": "1.5.0",
            "_model_name": "HTMLModel",
            "_view_count": null,
            "_view_module": "@jupyter-widgets/controls",
            "_view_module_version": "1.5.0",
            "_view_name": "HTMLView",
            "description": "",
            "description_tooltip": null,
            "layout": "IPY_MODEL_1096a0c1812d4528ac7e4e1709da6bb6",
            "placeholder": "​",
            "style": "IPY_MODEL_bbab916e6b8642c7b3a341d3b3c769c8",
            "value": " 4.82M/? [00:00&lt;00:00, 14.4MB/s]"
          }
        },
        "fdff8f3d42b9466998bd98afd4fd6195": {
          "model_module": "@jupyter-widgets/base",
          "model_name": "LayoutModel",
          "model_module_version": "1.2.0",
          "state": {
            "_model_module": "@jupyter-widgets/base",
            "_model_module_version": "1.2.0",
            "_model_name": "LayoutModel",
            "_view_count": null,
            "_view_module": "@jupyter-widgets/base",
            "_view_module_version": "1.2.0",
            "_view_name": "LayoutView",
            "align_content": null,
            "align_items": null,
            "align_self": null,
            "border": null,
            "bottom": null,
            "display": null,
            "flex": null,
            "flex_flow": null,
            "grid_area": null,
            "grid_auto_columns": null,
            "grid_auto_flow": null,
            "grid_auto_rows": null,
            "grid_column": null,
            "grid_gap": null,
            "grid_row": null,
            "grid_template_areas": null,
            "grid_template_columns": null,
            "grid_template_rows": null,
            "height": null,
            "justify_content": null,
            "justify_items": null,
            "left": null,
            "margin": null,
            "max_height": null,
            "max_width": null,
            "min_height": null,
            "min_width": null,
            "object_fit": null,
            "object_position": null,
            "order": null,
            "overflow": null,
            "overflow_x": null,
            "overflow_y": null,
            "padding": null,
            "right": null,
            "top": null,
            "visibility": null,
            "width": null
          }
        },
        "6c9605bb7f91432aa3bfa7fb3c44c2ca": {
          "model_module": "@jupyter-widgets/base",
          "model_name": "LayoutModel",
          "model_module_version": "1.2.0",
          "state": {
            "_model_module": "@jupyter-widgets/base",
            "_model_module_version": "1.2.0",
            "_model_name": "LayoutModel",
            "_view_count": null,
            "_view_module": "@jupyter-widgets/base",
            "_view_module_version": "1.2.0",
            "_view_name": "LayoutView",
            "align_content": null,
            "align_items": null,
            "align_self": null,
            "border": null,
            "bottom": null,
            "display": null,
            "flex": null,
            "flex_flow": null,
            "grid_area": null,
            "grid_auto_columns": null,
            "grid_auto_flow": null,
            "grid_auto_rows": null,
            "grid_column": null,
            "grid_gap": null,
            "grid_row": null,
            "grid_template_areas": null,
            "grid_template_columns": null,
            "grid_template_rows": null,
            "height": null,
            "justify_content": null,
            "justify_items": null,
            "left": null,
            "margin": null,
            "max_height": null,
            "max_width": null,
            "min_height": null,
            "min_width": null,
            "object_fit": null,
            "object_position": null,
            "order": null,
            "overflow": null,
            "overflow_x": null,
            "overflow_y": null,
            "padding": null,
            "right": null,
            "top": null,
            "visibility": null,
            "width": null
          }
        },
        "3fa2861400e24abba2171aae08510efb": {
          "model_module": "@jupyter-widgets/controls",
          "model_name": "DescriptionStyleModel",
          "model_module_version": "1.5.0",
          "state": {
            "_model_module": "@jupyter-widgets/controls",
            "_model_module_version": "1.5.0",
            "_model_name": "DescriptionStyleModel",
            "_view_count": null,
            "_view_module": "@jupyter-widgets/base",
            "_view_module_version": "1.2.0",
            "_view_name": "StyleView",
            "description_width": ""
          }
        },
        "f161fc904cce4bc6bbfb016123859720": {
          "model_module": "@jupyter-widgets/base",
          "model_name": "LayoutModel",
          "model_module_version": "1.2.0",
          "state": {
            "_model_module": "@jupyter-widgets/base",
            "_model_module_version": "1.2.0",
            "_model_name": "LayoutModel",
            "_view_count": null,
            "_view_module": "@jupyter-widgets/base",
            "_view_module_version": "1.2.0",
            "_view_name": "LayoutView",
            "align_content": null,
            "align_items": null,
            "align_self": null,
            "border": null,
            "bottom": null,
            "display": null,
            "flex": null,
            "flex_flow": null,
            "grid_area": null,
            "grid_auto_columns": null,
            "grid_auto_flow": null,
            "grid_auto_rows": null,
            "grid_column": null,
            "grid_gap": null,
            "grid_row": null,
            "grid_template_areas": null,
            "grid_template_columns": null,
            "grid_template_rows": null,
            "height": null,
            "justify_content": null,
            "justify_items": null,
            "left": null,
            "margin": null,
            "max_height": null,
            "max_width": null,
            "min_height": null,
            "min_width": null,
            "object_fit": null,
            "object_position": null,
            "order": null,
            "overflow": null,
            "overflow_x": null,
            "overflow_y": null,
            "padding": null,
            "right": null,
            "top": null,
            "visibility": null,
            "width": "20px"
          }
        },
        "1b855b7fa7b94c83b68821c0c4845230": {
          "model_module": "@jupyter-widgets/controls",
          "model_name": "ProgressStyleModel",
          "model_module_version": "1.5.0",
          "state": {
            "_model_module": "@jupyter-widgets/controls",
            "_model_module_version": "1.5.0",
            "_model_name": "ProgressStyleModel",
            "_view_count": null,
            "_view_module": "@jupyter-widgets/base",
            "_view_module_version": "1.2.0",
            "_view_name": "StyleView",
            "bar_color": null,
            "description_width": ""
          }
        },
        "1096a0c1812d4528ac7e4e1709da6bb6": {
          "model_module": "@jupyter-widgets/base",
          "model_name": "LayoutModel",
          "model_module_version": "1.2.0",
          "state": {
            "_model_module": "@jupyter-widgets/base",
            "_model_module_version": "1.2.0",
            "_model_name": "LayoutModel",
            "_view_count": null,
            "_view_module": "@jupyter-widgets/base",
            "_view_module_version": "1.2.0",
            "_view_name": "LayoutView",
            "align_content": null,
            "align_items": null,
            "align_self": null,
            "border": null,
            "bottom": null,
            "display": null,
            "flex": null,
            "flex_flow": null,
            "grid_area": null,
            "grid_auto_columns": null,
            "grid_auto_flow": null,
            "grid_auto_rows": null,
            "grid_column": null,
            "grid_gap": null,
            "grid_row": null,
            "grid_template_areas": null,
            "grid_template_columns": null,
            "grid_template_rows": null,
            "height": null,
            "justify_content": null,
            "justify_items": null,
            "left": null,
            "margin": null,
            "max_height": null,
            "max_width": null,
            "min_height": null,
            "min_width": null,
            "object_fit": null,
            "object_position": null,
            "order": null,
            "overflow": null,
            "overflow_x": null,
            "overflow_y": null,
            "padding": null,
            "right": null,
            "top": null,
            "visibility": null,
            "width": null
          }
        },
        "bbab916e6b8642c7b3a341d3b3c769c8": {
          "model_module": "@jupyter-widgets/controls",
          "model_name": "DescriptionStyleModel",
          "model_module_version": "1.5.0",
          "state": {
            "_model_module": "@jupyter-widgets/controls",
            "_model_module_version": "1.5.0",
            "_model_name": "DescriptionStyleModel",
            "_view_count": null,
            "_view_module": "@jupyter-widgets/base",
            "_view_module_version": "1.2.0",
            "_view_name": "StyleView",
            "description_width": ""
          }
        },
        "9706cb147aa4412da02a5f06ae58a4cf": {
          "model_module": "@jupyter-widgets/controls",
          "model_name": "HBoxModel",
          "model_module_version": "1.5.0",
          "state": {
            "_dom_classes": [],
            "_model_module": "@jupyter-widgets/controls",
            "_model_module_version": "1.5.0",
            "_model_name": "HBoxModel",
            "_view_count": null,
            "_view_module": "@jupyter-widgets/controls",
            "_view_module_version": "1.5.0",
            "_view_name": "HBoxView",
            "box_style": "",
            "children": [
              "IPY_MODEL_62a7dbfa12a4471b89f28d3826b5a7d2",
              "IPY_MODEL_11fbb32f5996418bbaa63b20b0228fb6",
              "IPY_MODEL_6cdd9e5d3bc3463b91af4f7c6da9840d"
            ],
            "layout": "IPY_MODEL_7beb2d432f044fb89747eff8be53c8bd"
          }
        },
        "62a7dbfa12a4471b89f28d3826b5a7d2": {
          "model_module": "@jupyter-widgets/controls",
          "model_name": "HTMLModel",
          "model_module_version": "1.5.0",
          "state": {
            "_dom_classes": [],
            "_model_module": "@jupyter-widgets/controls",
            "_model_module_version": "1.5.0",
            "_model_name": "HTMLModel",
            "_view_count": null,
            "_view_module": "@jupyter-widgets/controls",
            "_view_module_version": "1.5.0",
            "_view_name": "HTMLView",
            "description": "",
            "description_tooltip": null,
            "layout": "IPY_MODEL_544ec0b3b31c40e7bc7f1d89aeb72981",
            "placeholder": "​",
            "style": "IPY_MODEL_150fbb2bb0de4755a994defb2f467572",
            "value": "Generating train split: 100%"
          }
        },
        "11fbb32f5996418bbaa63b20b0228fb6": {
          "model_module": "@jupyter-widgets/controls",
          "model_name": "FloatProgressModel",
          "model_module_version": "1.5.0",
          "state": {
            "_dom_classes": [],
            "_model_module": "@jupyter-widgets/controls",
            "_model_module_version": "1.5.0",
            "_model_name": "FloatProgressModel",
            "_view_count": null,
            "_view_module": "@jupyter-widgets/controls",
            "_view_module_version": "1.5.0",
            "_view_name": "ProgressView",
            "bar_style": "success",
            "description": "",
            "description_tooltip": null,
            "layout": "IPY_MODEL_630e249f00394414a219b1ba6b3d169c",
            "max": 30158,
            "min": 0,
            "orientation": "horizontal",
            "style": "IPY_MODEL_09098d6efc8740688fcbbd997181c756",
            "value": 30158
          }
        },
        "6cdd9e5d3bc3463b91af4f7c6da9840d": {
          "model_module": "@jupyter-widgets/controls",
          "model_name": "HTMLModel",
          "model_module_version": "1.5.0",
          "state": {
            "_dom_classes": [],
            "_model_module": "@jupyter-widgets/controls",
            "_model_module_version": "1.5.0",
            "_model_name": "HTMLModel",
            "_view_count": null,
            "_view_module": "@jupyter-widgets/controls",
            "_view_module_version": "1.5.0",
            "_view_name": "HTMLView",
            "description": "",
            "description_tooltip": null,
            "layout": "IPY_MODEL_92ec025a039e4831bbb0db92e73c8214",
            "placeholder": "​",
            "style": "IPY_MODEL_1ab64d1062104a518c862f295128197c",
            "value": " 30158/30158 [00:00&lt;00:00, 181533.62 examples/s]"
          }
        },
        "7beb2d432f044fb89747eff8be53c8bd": {
          "model_module": "@jupyter-widgets/base",
          "model_name": "LayoutModel",
          "model_module_version": "1.2.0",
          "state": {
            "_model_module": "@jupyter-widgets/base",
            "_model_module_version": "1.2.0",
            "_model_name": "LayoutModel",
            "_view_count": null,
            "_view_module": "@jupyter-widgets/base",
            "_view_module_version": "1.2.0",
            "_view_name": "LayoutView",
            "align_content": null,
            "align_items": null,
            "align_self": null,
            "border": null,
            "bottom": null,
            "display": null,
            "flex": null,
            "flex_flow": null,
            "grid_area": null,
            "grid_auto_columns": null,
            "grid_auto_flow": null,
            "grid_auto_rows": null,
            "grid_column": null,
            "grid_gap": null,
            "grid_row": null,
            "grid_template_areas": null,
            "grid_template_columns": null,
            "grid_template_rows": null,
            "height": null,
            "justify_content": null,
            "justify_items": null,
            "left": null,
            "margin": null,
            "max_height": null,
            "max_width": null,
            "min_height": null,
            "min_width": null,
            "object_fit": null,
            "object_position": null,
            "order": null,
            "overflow": null,
            "overflow_x": null,
            "overflow_y": null,
            "padding": null,
            "right": null,
            "top": null,
            "visibility": null,
            "width": null
          }
        },
        "544ec0b3b31c40e7bc7f1d89aeb72981": {
          "model_module": "@jupyter-widgets/base",
          "model_name": "LayoutModel",
          "model_module_version": "1.2.0",
          "state": {
            "_model_module": "@jupyter-widgets/base",
            "_model_module_version": "1.2.0",
            "_model_name": "LayoutModel",
            "_view_count": null,
            "_view_module": "@jupyter-widgets/base",
            "_view_module_version": "1.2.0",
            "_view_name": "LayoutView",
            "align_content": null,
            "align_items": null,
            "align_self": null,
            "border": null,
            "bottom": null,
            "display": null,
            "flex": null,
            "flex_flow": null,
            "grid_area": null,
            "grid_auto_columns": null,
            "grid_auto_flow": null,
            "grid_auto_rows": null,
            "grid_column": null,
            "grid_gap": null,
            "grid_row": null,
            "grid_template_areas": null,
            "grid_template_columns": null,
            "grid_template_rows": null,
            "height": null,
            "justify_content": null,
            "justify_items": null,
            "left": null,
            "margin": null,
            "max_height": null,
            "max_width": null,
            "min_height": null,
            "min_width": null,
            "object_fit": null,
            "object_position": null,
            "order": null,
            "overflow": null,
            "overflow_x": null,
            "overflow_y": null,
            "padding": null,
            "right": null,
            "top": null,
            "visibility": null,
            "width": null
          }
        },
        "150fbb2bb0de4755a994defb2f467572": {
          "model_module": "@jupyter-widgets/controls",
          "model_name": "DescriptionStyleModel",
          "model_module_version": "1.5.0",
          "state": {
            "_model_module": "@jupyter-widgets/controls",
            "_model_module_version": "1.5.0",
            "_model_name": "DescriptionStyleModel",
            "_view_count": null,
            "_view_module": "@jupyter-widgets/base",
            "_view_module_version": "1.2.0",
            "_view_name": "StyleView",
            "description_width": ""
          }
        },
        "630e249f00394414a219b1ba6b3d169c": {
          "model_module": "@jupyter-widgets/base",
          "model_name": "LayoutModel",
          "model_module_version": "1.2.0",
          "state": {
            "_model_module": "@jupyter-widgets/base",
            "_model_module_version": "1.2.0",
            "_model_name": "LayoutModel",
            "_view_count": null,
            "_view_module": "@jupyter-widgets/base",
            "_view_module_version": "1.2.0",
            "_view_name": "LayoutView",
            "align_content": null,
            "align_items": null,
            "align_self": null,
            "border": null,
            "bottom": null,
            "display": null,
            "flex": null,
            "flex_flow": null,
            "grid_area": null,
            "grid_auto_columns": null,
            "grid_auto_flow": null,
            "grid_auto_rows": null,
            "grid_column": null,
            "grid_gap": null,
            "grid_row": null,
            "grid_template_areas": null,
            "grid_template_columns": null,
            "grid_template_rows": null,
            "height": null,
            "justify_content": null,
            "justify_items": null,
            "left": null,
            "margin": null,
            "max_height": null,
            "max_width": null,
            "min_height": null,
            "min_width": null,
            "object_fit": null,
            "object_position": null,
            "order": null,
            "overflow": null,
            "overflow_x": null,
            "overflow_y": null,
            "padding": null,
            "right": null,
            "top": null,
            "visibility": null,
            "width": null
          }
        },
        "09098d6efc8740688fcbbd997181c756": {
          "model_module": "@jupyter-widgets/controls",
          "model_name": "ProgressStyleModel",
          "model_module_version": "1.5.0",
          "state": {
            "_model_module": "@jupyter-widgets/controls",
            "_model_module_version": "1.5.0",
            "_model_name": "ProgressStyleModel",
            "_view_count": null,
            "_view_module": "@jupyter-widgets/base",
            "_view_module_version": "1.2.0",
            "_view_name": "StyleView",
            "bar_color": null,
            "description_width": ""
          }
        },
        "92ec025a039e4831bbb0db92e73c8214": {
          "model_module": "@jupyter-widgets/base",
          "model_name": "LayoutModel",
          "model_module_version": "1.2.0",
          "state": {
            "_model_module": "@jupyter-widgets/base",
            "_model_module_version": "1.2.0",
            "_model_name": "LayoutModel",
            "_view_count": null,
            "_view_module": "@jupyter-widgets/base",
            "_view_module_version": "1.2.0",
            "_view_name": "LayoutView",
            "align_content": null,
            "align_items": null,
            "align_self": null,
            "border": null,
            "bottom": null,
            "display": null,
            "flex": null,
            "flex_flow": null,
            "grid_area": null,
            "grid_auto_columns": null,
            "grid_auto_flow": null,
            "grid_auto_rows": null,
            "grid_column": null,
            "grid_gap": null,
            "grid_row": null,
            "grid_template_areas": null,
            "grid_template_columns": null,
            "grid_template_rows": null,
            "height": null,
            "justify_content": null,
            "justify_items": null,
            "left": null,
            "margin": null,
            "max_height": null,
            "max_width": null,
            "min_height": null,
            "min_width": null,
            "object_fit": null,
            "object_position": null,
            "order": null,
            "overflow": null,
            "overflow_x": null,
            "overflow_y": null,
            "padding": null,
            "right": null,
            "top": null,
            "visibility": null,
            "width": null
          }
        },
        "1ab64d1062104a518c862f295128197c": {
          "model_module": "@jupyter-widgets/controls",
          "model_name": "DescriptionStyleModel",
          "model_module_version": "1.5.0",
          "state": {
            "_model_module": "@jupyter-widgets/controls",
            "_model_module_version": "1.5.0",
            "_model_name": "DescriptionStyleModel",
            "_view_count": null,
            "_view_module": "@jupyter-widgets/base",
            "_view_module_version": "1.2.0",
            "_view_name": "StyleView",
            "description_width": ""
          }
        }
      }
    }
  },
  "cells": [
    {
      "cell_type": "markdown",
      "metadata": {
        "id": "view-in-github",
        "colab_type": "text"
      },
      "source": [
        "<a href=\"https://colab.research.google.com/github/hidrochin/IT4772-NLP/blob/main/notebooks/Vietnamese_Tokenizer.ipynb\" target=\"_parent\"><img src=\"https://colab.research.google.com/assets/colab-badge.svg\" alt=\"Open In Colab\"/></a>"
      ]
    },
    {
      "cell_type": "code",
      "execution_count": null,
      "metadata": {
        "id": "V799h3otyrom"
      },
      "outputs": [],
      "source": [
        "!pip install pyvi"
      ]
    },
    {
      "cell_type": "code",
      "source": [
        "from pyvi import ViTokenizer, ViPosTagger\n",
        "\n",
        "ViTokenizer.tokenize(u\"Trường đại học bách khoa hà nội\")"
      ],
      "metadata": {
        "colab": {
          "base_uri": "https://localhost:8080/",
          "height": 36
        },
        "id": "qKAUUYxPy4f9",
        "outputId": "5faf7a0f-502e-4858-c0f6-df744799b07b"
      },
      "execution_count": 12,
      "outputs": [
        {
          "output_type": "execute_result",
          "data": {
            "text/plain": [
              "'Trường đại_học bách_khoa hà_nội'"
            ],
            "application/vnd.google.colaboratory.intrinsic+json": {
              "type": "string"
            }
          },
          "metadata": {},
          "execution_count": 12
        }
      ]
    },
    {
      "cell_type": "code",
      "source": [
        "ViPosTagger.postagging(ViTokenizer.tokenize(u\"Trường đại học Bách Khoa Hà Nội\"))"
      ],
      "metadata": {
        "id": "PBE83cMz6IKm"
      },
      "execution_count": null,
      "outputs": []
    },
    {
      "cell_type": "code",
      "source": [
        "from pyvi import ViUtils\n",
        "ViUtils.remove_accents(u\"Trường đại học bách khoa hà nội\")"
      ],
      "metadata": {
        "colab": {
          "base_uri": "https://localhost:8080/",
          "height": 36
        },
        "id": "zcKToJEn6Lmk",
        "outputId": "5e358812-76da-4bec-8a51-55fbe77c2553"
      },
      "execution_count": 13,
      "outputs": [
        {
          "output_type": "execute_result",
          "data": {
            "text/plain": [
              "'Trường Đại học Bách Khoa hà nội'"
            ],
            "application/vnd.google.colaboratory.intrinsic+json": {
              "type": "string"
            }
          },
          "metadata": {},
          "execution_count": 13
        }
      ]
    },
    {
      "cell_type": "code",
      "source": [
        "from pyvi import ViUtils\n",
        "ViUtils.add_accents(u'truong dai hoc bach khoa ha noi')"
      ],
      "metadata": {
        "colab": {
          "base_uri": "https://localhost:8080/",
          "height": 36
        },
        "id": "NnaqWWpA6O-p",
        "outputId": "f5b85afa-0031-4a4d-87a7-3d293c9aae97"
      },
      "execution_count": 14,
      "outputs": [
        {
          "output_type": "execute_result",
          "data": {
            "text/plain": [
              "'Trường Đại học Bách Khoa hà nội'"
            ],
            "application/vnd.google.colaboratory.intrinsic+json": {
              "type": "string"
            }
          },
          "metadata": {},
          "execution_count": 14
        }
      ]
    },
    {
      "cell_type": "markdown",
      "metadata": {
        "id": "4e4cee51"
      },
      "source": [
        "# Task\n",
        "Build a Vietnamese tokenizer using the maximum matching algorithm and a Vietnamese dictionary."
      ]
    },
    {
      "cell_type": "markdown",
      "metadata": {
        "id": "3868d87d"
      },
      "source": [
        "## Load vietnamese dictionary\n",
        "\n",
        "### Subtask:\n",
        "Load a Vietnamese dictionary from a file or a predefined list of words.\n"
      ]
    },
    {
      "cell_type": "markdown",
      "metadata": {
        "id": "42730501"
      },
      "source": [
        "**Reasoning**:\n",
        "Define a list of Vietnamese words as the dictionary.\n",
        "\n"
      ]
    },
    {
      "cell_type": "code",
      "metadata": {
        "id": "fad0150b"
      },
      "source": [
        "# vietnamese_dictionary = [\n",
        "#     \"chào\", \"buổi\", \"sáng\", \"tôi\", \"là\", \"một\", \"người\", \"việt\", \"nam\", \"yêu\",\n",
        "#     \"nước\", \"việt\", \"nam\", \"đất\", \"nước\", \"con\", \"người\", \"việt\", \"nam\", \"tuyệt\",\n",
        "#     \"vời\", \"tôi\", \"thích\", \"ăn\", \"phở\", \"bún\", \"chả\", \"nem\", \"rắn\", \"gỏi\",\n",
        "#     \"cuốn\", \"cà\", \"phê\", \"sữa\", \"đá\", \"sinh\", \"tố\", \"nước\", \"ép\", \"trái\", \"cây\",\n",
        "#     \"đi\", \"chợ\", \"mua\", \"sắm\", \"du\", \"lịch\", \"nghỉ\", \"mát\", \"hè\", \"đông\",\n",
        "#     \"xuân\", \"thu\", \"thời\", \"tiết\", \"nóng\", \"lạnh\", \"mưa\", \"nắng\", \"gió\", \"bão\",\n",
        "#     \"nhà\", \"ở\", \"thành\", \"phố\", \"hà\", \"nội\", \"hồ\", \"chí\", \"minh\", \"đà\", \"nẵng\",\n",
        "#     \"huế\", \"nha\", \"trang\", \"vũng\", \"tàu\", \"cần\", \"thơ\", \"hải\", \"phòng\", \"quảng\",\n",
        "#     \"ninh\", \"lào\", \"cai\", \"sapa\", \"đà\", \"lạt\", \"phú\", \"quốc\", \"côn\", \"đảo\",\n",
        "#     \"học\", \"tập\", \"làm\", \"việc\", \"giải\", \"trí\", \"thể\", \"thao\", \"âm\", \"nhạc\",\n",
        "#     \"điện\", \"ảnh\", \"sách\", \"báo\", \"truyện\", \"thơ\", \"văn\", \"lịch\", \"sử\", \"địa\",\n",
        "#     \"lý\", \"toán\", \"lý\", \"hóa\", \"sinh\", \"ngữ\", \"văn\", \"tiếng\", \"anh\", \"pháp\",\n",
        "#     \"đức\", \"nhật\", \"hàn\", \"trung\", \"quốc\", \"nga\", \"ý\", \"tây\", \"ban\", \"nha\",\n",
        "#     \"bồ\", \"đào\", \"nha\", \"thụy\", \"sĩ\", \"thụy\", \"điển\", \"phần\", \"lan\", \"na\", \"uy\",\n",
        "#     \"đan\", \"mạch\", \"hy\", \"lạp\", \"thổ\", \"nhĩ\", \"kỳ\", \"ấn\", \"độ\", \"thái\", \"lan\",\n",
        "#     \"cam\", \"pu\", \"chia\", \"lào\", \"myan\", \"mar\", \"phi\", \"líp\", \"pin\", \"in\", \"đô\",\n",
        "#     \"nê\", \"xi\", \"a\", \"ma\", \"lai\", \"xi\", \"a\", \"sin\", \"ga\", \"po\", \"bru\", \"nê\",\n",
        "#     \"đông\", \"ti\", \"mor\", \"úc\", \"new\", \"zea\", \"land\", \"canada\", \"usa\", \"mexico\",\n",
        "#     \"brazil\", \"argentina\", \"chile\", \"colombia\", \"peru\", \"ecuador\", \"venezuela\",\n",
        "#     \"bolivia\", \"paraguay\", \"uruguay\", \"guyana\", \"suriname\", \"pháp\", \"đức\", \"anh\",\n",
        "#     \"ý\", \"tây\", \"ban\", \"nha\", \"bồ\", \"đào\", \"nha\", \"nga\", \"úc\", \"canada\", \"mỹ\",\n",
        "#     \"nhật\", \"bản\", \"hàn\", \"quốc\", \"ấn\", \"độ\", \"trung\", \"quốc\", \"brazil\", \"mexico\",\n",
        "#     \"indonesia\", \"pakistan\", \"nigeria\", \"bangladesh\", \"nga\", \"nhật\", \"đức\", \"anh\",\n",
        "#     \"pháp\", \"ý\", \"tây\", \"ban\", \"nha\", \"bồ\", \"đào\", \"nha\", \"úc\", \"canada\", \"mỹ\",\n",
        "#     \"nhật\", \"bản\", \"hàn\", \"quốc\", \"ấn\", \"độ\", \"trung\", \"quốc\", \"brazil\", \"mexico\",\n",
        "#     \"indonesia\", \"pakistan\", \"nigeria\", \"bangladesh\", \"nga\", \"nhật\", \"đức\", \"anh\",\n",
        "#     \"pháp\", \"ý\", \"tây\", \"ban\", \"nha\", \"bồ\", \"đào\", \"nha\", \"úc\", \"canada\", \"mỹ\",\n",
        "#     \"nhật\", \"bản\", \"hàn\", \"quốc\", \"ấn\", \"độ\", \"trung\", \"quốc\", \"brazil\", \"mexico\",\n",
        "#     \"indonesia\", \"pakistan\", \"nigeria\", \"bangladesh\"\n",
        "# ]"
      ],
      "execution_count": null,
      "outputs": []
    },
    {
      "cell_type": "code",
      "source": [
        "from datasets import load_dataset\n",
        "\n",
        "ds = load_dataset(\"npvinHnivqn/VietnameseDictionary\")"
      ],
      "metadata": {
        "colab": {
          "base_uri": "https://localhost:8080/",
          "height": 113,
          "referenced_widgets": [
            "3943f55e6785421681e5d8b01fc72806",
            "ed76cdd740a846bcb62f2209cc5e36dd",
            "929f08bbd1ed413e9c3ce4045c8e15bb",
            "924aa5a482d445d192463d88e75cc08f",
            "eec677868c1e4d608a57e6dcdb3c2921",
            "f8bd2c1736e84d6b81926461c1576d77",
            "c1a657c0dfec4b9cad9ff6df2cc5eb72",
            "563ac0e4a68b41b3961d096316779fb2",
            "dbb7fbb2bcca4d55a960e55debfc3e8a",
            "9250be8bb46b46c49c9187bea0f5c365",
            "b29b59e1cb3b4a9698ea433480875f0a",
            "fef3fe975ab348b88f134649f09a4214",
            "ae943796578141bfb8cb591c72101a5f",
            "28914dc6bf454e698445e7a65282793a",
            "eda51c294256421ea88eca18b3d23409",
            "fdff8f3d42b9466998bd98afd4fd6195",
            "6c9605bb7f91432aa3bfa7fb3c44c2ca",
            "3fa2861400e24abba2171aae08510efb",
            "f161fc904cce4bc6bbfb016123859720",
            "1b855b7fa7b94c83b68821c0c4845230",
            "1096a0c1812d4528ac7e4e1709da6bb6",
            "bbab916e6b8642c7b3a341d3b3c769c8",
            "9706cb147aa4412da02a5f06ae58a4cf",
            "62a7dbfa12a4471b89f28d3826b5a7d2",
            "11fbb32f5996418bbaa63b20b0228fb6",
            "6cdd9e5d3bc3463b91af4f7c6da9840d",
            "7beb2d432f044fb89747eff8be53c8bd",
            "544ec0b3b31c40e7bc7f1d89aeb72981",
            "150fbb2bb0de4755a994defb2f467572",
            "630e249f00394414a219b1ba6b3d169c",
            "09098d6efc8740688fcbbd997181c756",
            "92ec025a039e4831bbb0db92e73c8214",
            "1ab64d1062104a518c862f295128197c"
          ]
        },
        "id": "8EnbQEvQz9tO",
        "outputId": "2b93a645-99f1-4912-d5eb-764a26cb513c"
      },
      "execution_count": 3,
      "outputs": [
        {
          "output_type": "display_data",
          "data": {
            "text/plain": [
              "README.md:   0%|          | 0.00/114 [00:00<?, ?B/s]"
            ],
            "application/vnd.jupyter.widget-view+json": {
              "version_major": 2,
              "version_minor": 0,
              "model_id": "3943f55e6785421681e5d8b01fc72806"
            }
          },
          "metadata": {}
        },
        {
          "output_type": "display_data",
          "data": {
            "text/plain": [
              "vv30k.csv: 0.00B [00:00, ?B/s]"
            ],
            "application/vnd.jupyter.widget-view+json": {
              "version_major": 2,
              "version_minor": 0,
              "model_id": "fef3fe975ab348b88f134649f09a4214"
            }
          },
          "metadata": {}
        },
        {
          "output_type": "display_data",
          "data": {
            "text/plain": [
              "Generating train split:   0%|          | 0/30158 [00:00<?, ? examples/s]"
            ],
            "application/vnd.jupyter.widget-view+json": {
              "version_major": 2,
              "version_minor": 0,
              "model_id": "9706cb147aa4412da02a5f06ae58a4cf"
            }
          },
          "metadata": {}
        }
      ]
    },
    {
      "cell_type": "code",
      "source": [
        "ds"
      ],
      "metadata": {
        "colab": {
          "base_uri": "https://localhost:8080/"
        },
        "id": "R8HKUih95FLE",
        "outputId": "2e0ca721-97bc-491b-c514-54b924166ab4"
      },
      "execution_count": 5,
      "outputs": [
        {
          "output_type": "execute_result",
          "data": {
            "text/plain": [
              "DatasetDict({\n",
              "    train: Dataset({\n",
              "        features: ['từ', 'định nghĩa'],\n",
              "        num_rows: 30158\n",
              "    })\n",
              "})"
            ]
          },
          "metadata": {},
          "execution_count": 5
        }
      ]
    },
    {
      "cell_type": "code",
      "source": [
        "# Preprocessing and create Vietnamese dictionary from ds\n",
        "\n",
        "# Extract words from the dataset, replacing spaces with underscores and handling None values.\n",
        "vietnamese_dictionary = [word.replace(\" \", \"_\") for word in ds['train']['từ'] if word is not None]\n",
        "\n",
        "# Optional: Further preprocessing if needed, e.g., converting to lowercase\n",
        "# vietnamese_dictionary = [word.lower() for word in vietnamese_dictionary]\n",
        "\n",
        "print(f\"Created a dictionary with {len(vietnamese_dictionary)} words.\")"
      ],
      "metadata": {
        "colab": {
          "base_uri": "https://localhost:8080/"
        },
        "id": "prFCf4E64xGw",
        "outputId": "9c50cf2e-55d8-46d0-8a06-196080201456"
      },
      "execution_count": 7,
      "outputs": [
        {
          "output_type": "stream",
          "name": "stdout",
          "text": [
            "Created a dictionary with 30157 words.\n"
          ]
        }
      ]
    },
    {
      "cell_type": "code",
      "source": [
        "vietnamese_dictionary[:10]"
      ],
      "metadata": {
        "colab": {
          "base_uri": "https://localhost:8080/"
        },
        "id": "ubNgypTd6rv4",
        "outputId": "5e6b4bfc-b181-4ba3-b7a7-1d5b9b3fb70d"
      },
      "execution_count": 17,
      "outputs": [
        {
          "output_type": "execute_result",
          "data": {
            "text/plain": [
              "['a', 'a_dua', 'a_hoàn', 'a_phiến', 'a_tòng', 'à', 'ả', 'ả_đào', 'á', 'á_khẩu']"
            ]
          },
          "metadata": {},
          "execution_count": 17
        }
      ]
    },
    {
      "cell_type": "markdown",
      "metadata": {
        "id": "194b2ece"
      },
      "source": [
        "## Implement maximum matching algorithm\n",
        "\n",
        "### Subtask:\n",
        "Implement the maximum matching algorithm to tokenize the input text based on the loaded dictionary.\n"
      ]
    },
    {
      "cell_type": "markdown",
      "metadata": {
        "id": "8ba07e4e"
      },
      "source": [
        "**Reasoning**:\n",
        "Define the maximum matching tokenization function as instructed.\n",
        "\n"
      ]
    },
    {
      "cell_type": "code",
      "metadata": {
        "id": "b9702f26"
      },
      "source": [
        "def max_matching_tokenizer(text, dictionary):\n",
        "    \"\"\"\n",
        "    Tokenizes a given text using the maximum matching algorithm and a dictionary.\n",
        "\n",
        "    Args:\n",
        "        text: The input string to tokenize.\n",
        "        dictionary: A list of words representing the dictionary.\n",
        "\n",
        "    Returns:\n",
        "        A list of tokens.\n",
        "    \"\"\"\n",
        "    tokens = []\n",
        "    i = 0\n",
        "    while i < len(text):\n",
        "        longest_match = None\n",
        "        for j in range(len(text), i - 1, -1):\n",
        "            word = text[i:j]\n",
        "            if word in dictionary:\n",
        "                longest_match = word\n",
        "                break\n",
        "        if longest_match:\n",
        "            tokens.append(longest_match)\n",
        "            i += len(longest_match)\n",
        "        else:\n",
        "            tokens.append(text[i])\n",
        "            i += 1\n",
        "    return tokens\n",
        "\n"
      ],
      "execution_count": 15,
      "outputs": []
    },
    {
      "cell_type": "markdown",
      "metadata": {
        "id": "252a88b7"
      },
      "source": [
        "## Test the tokenizer\n",
        "\n",
        "### Subtask:\n",
        "Test the implemented tokenizer with sample Vietnamese text to verify its correctness.\n"
      ]
    },
    {
      "cell_type": "markdown",
      "metadata": {
        "id": "afc1634d"
      },
      "source": [
        "**Reasoning**:\n",
        "Define a sample Vietnamese text, call the tokenizer function, and print the result to verify the implementation.\n",
        "\n"
      ]
    },
    {
      "cell_type": "code",
      "metadata": {
        "colab": {
          "base_uri": "https://localhost:8080/"
        },
        "id": "85f7919f",
        "outputId": "8be4a89f-caff-4cd8-f266-42cad1f0bb60"
      },
      "source": [
        "# 1. Define a sample Vietnamese text string\n",
        "sample_text = \"chàobuổisángtôilàmộtngườiviệtnam\"\n",
        "\n",
        "# 2. Call the max_matching_tokenizer function\n",
        "tokens = max_matching_tokenizer(sample_text, vietnamese_dictionary)\n",
        "\n",
        "# 3. Print the resulting list of tokens\n",
        "print(tokens)"
      ],
      "execution_count": 9,
      "outputs": [
        {
          "output_type": "stream",
          "name": "stdout",
          "text": [
            "['chào', 'buổi', 'sáng', 'tôi', 'làm', 'ộ', 't', 'người', 'v', 'i', 'ệ', 't', 'nam']\n"
          ]
        }
      ]
    },
    {
      "cell_type": "markdown",
      "metadata": {
        "id": "53daa579"
      },
      "source": [
        "## Summary:\n",
        "\n",
        "### Data Analysis Key Findings\n",
        "\n",
        "*   The Vietnamese dictionary was successfully loaded as a Python list containing a predefined set of words.\n",
        "*   The `max_matching_tokenizer` function was implemented, which tokenizes text by finding the longest possible word matches from the dictionary.\n",
        "*   Testing the tokenizer with the sample text \"chàobuổisángtôilàmộtngườiviệtnam\" resulted in the tokenized list `['chào', 'buổi', 'sáng', 'tôi', 'làm', 'ộ', 't', 'người', 'việt', 'nam']`.\n",
        "\n",
        "### Insights or Next Steps\n",
        "\n",
        "*   The current tokenizer may not handle words not present in the dictionary effectively, leading to single-character tokens for unknown parts of the text (e.g., 'ộ', 't' in the example). Expanding the dictionary or incorporating a fallback mechanism for out-of-vocabulary words could improve performance.\n",
        "*   The tokenizer does not currently handle punctuation or capitalization. Adding preprocessing steps to normalize the text could enhance the tokenization accuracy.\n"
      ]
    },
    {
      "cell_type": "code",
      "source": [],
      "metadata": {
        "id": "OF7iJ6hV54-o"
      },
      "execution_count": null,
      "outputs": []
    }
  ]
}