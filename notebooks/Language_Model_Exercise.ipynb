{
  "nbformat": 4,
  "nbformat_minor": 0,
  "metadata": {
    "colab": {
      "provenance": [],
      "collapsed_sections": [
        "9a87340b"
      ],
      "authorship_tag": "ABX9TyOJB4felmk/zrPbxa2sF5+3",
      "include_colab_link": true
    },
    "kernelspec": {
      "name": "python3",
      "display_name": "Python 3"
    },
    "language_info": {
      "name": "python"
    }
  },
  "cells": [
    {
      "cell_type": "markdown",
      "metadata": {
        "id": "view-in-github",
        "colab_type": "text"
      },
      "source": [
        "<a href=\"https://colab.research.google.com/github/hidrochin/IT4772-NLP/blob/main/notebooks/Language_Model_Exercise.ipynb\" target=\"_parent\"><img src=\"https://colab.research.google.com/assets/colab-badge.svg\" alt=\"Open In Colab\"/></a>"
      ]
    },
    {
      "cell_type": "markdown",
      "source": [
        "# First doing at class"
      ],
      "metadata": {
        "id": "wWa3NrAC5TqQ"
      }
    },
    {
      "cell_type": "markdown",
      "source": [
        "Nộp bài tập lập trình n-gram: tạo một mô hình ngôn ngữ bi-gram từ 950 câu trong tệp đầu vào đã cung cấp (tiếng Việt). Tinh perplexity (xác suất) của 100 câu cuối (50 câu đã có trong train set và 50 câu chưa có)\n",
        "\n",
        "https://github.com/binhvq/news-corpus/blob/master/sample/demo-full.txt"
      ],
      "metadata": {
        "id": "V3rfnTHj3S1g"
      }
    },
    {
      "cell_type": "code",
      "execution_count": null,
      "metadata": {
        "colab": {
          "base_uri": "https://localhost:8080/"
        },
        "id": "o8boI8fqsd-q",
        "outputId": "b0da49ae-8126-4444-da75-e94c618492fd"
      },
      "outputs": [
        {
          "output_type": "stream",
          "name": "stdout",
          "text": [
            "Successfully fetched text data.\n"
          ]
        }
      ],
      "source": [
        "import requests\n",
        "\n",
        "# Replace with the raw URL of your text file on GitHub\n",
        "github_url = \"https://raw.githubusercontent.com/binhvq/news-corpus/refs/heads/master/sample/demo-full.txt\"\n",
        "\n",
        "\n",
        "try:\n",
        "    response = requests.get(github_url)\n",
        "    response.raise_for_status()  # Raise an HTTPError for bad responses (4xx or 5xx)\n",
        "    text_data = response.text\n",
        "    print(\"Successfully fetched text data.\")\n",
        "    # Now you can use 'text_data' as input for your N-grams language model\n",
        "    # print(text_data[:500]) # Uncomment to see the first 500 characters of the fetched text\n",
        "except requests.exceptions.RequestException as e:\n",
        "    print(f\"Error fetching data from GitHub: {e}\")\n",
        "    text_data = None # Set text_data to None to indicate failure"
      ]
    },
    {
      "cell_type": "code",
      "source": [
        "print(text_data[:500])"
      ],
      "metadata": {
        "colab": {
          "base_uri": "https://localhost:8080/"
        },
        "id": "TmduCubytrNX",
        "outputId": "765929c0-9626-4b93-af20-5a831a20d4d4"
      },
      "execution_count": null,
      "outputs": [
        {
          "output_type": "stream",
          "name": "stdout",
          "text": [
            "Chây ì nộp phạt nguội.\n",
            "Hàng chục ngàn phương tiện bị ghi hình vi phạm luật giao thông ở TP.HCM, bị 'bêu tên' nhưng chủ vẫn không chịu nộp phạt.\n",
            "Trên cổng thông tin điện tử của Công an TP.HCM (CATP), mục thông tin về phương tiện vi phạm hành chính qua hình ảnh (từ ngày 4.1.2017 - 4.1.2018), có ghi nhận biển số xe, lỗi vi phạm, ngày vi phạm của 34.118 phương tiện (ô tô) chưa nộp phạt.\n",
            "Đây là các phương tiện vi phạm được camera (di động hoặc cố định) của CATP ghi hình phạt nguội .\n",
            "Điều đáng nói, dù\n"
          ]
        }
      ]
    },
    {
      "cell_type": "code",
      "source": [
        "print(f\"Length of text data: {len(text_data)}\")"
      ],
      "metadata": {
        "colab": {
          "base_uri": "https://localhost:8080/"
        },
        "id": "WuCIUhoSvpco",
        "outputId": "dc63fdd6-3764-487d-b9fa-a2db3faa1c91"
      },
      "execution_count": null,
      "outputs": [
        {
          "output_type": "stream",
          "name": "stdout",
          "text": [
            "Length of text data: 153219\n"
          ]
        }
      ]
    },
    {
      "cell_type": "code",
      "source": [
        "import nltk\n",
        "from nltk.tokenize import sent_tokenize\n",
        "\n",
        "# Download the punkt tokenizer for sentence splitting if not already downloaded\n",
        "try:\n",
        "    nltk.download('punkt', quiet=True)\n",
        "except LookupError:\n",
        "    print(\"NLTK punkt resource not found. Please check your internet connection and try again.\")\n",
        "\n",
        "if text_data:\n",
        "    # Tokenize the text data into sentences\n",
        "    sentences = sent_tokenize(text_data)\n",
        "\n",
        "    # Determine the split point for sentences\n",
        "    split_index = int(len(sentences) * 0.8)\n",
        "\n",
        "    # Split the sentences\n",
        "    train_sentences = sentences[:split_index]\n",
        "    test_sentences = sentences[split_index:]\n",
        "\n",
        "    print(f\"Number of training sentences: {len(train_sentences)}\")\n",
        "    print(f\"Number of testing sentences: {len(test_sentences)}\")\n",
        "else:\n",
        "    print(\"No text data available for splitting into sentences.\")"
      ],
      "metadata": {
        "colab": {
          "base_uri": "https://localhost:8080/"
        },
        "id": "psLvExuQvZIW",
        "outputId": "743240b2-df17-42ee-c18e-e3237105248b"
      },
      "execution_count": null,
      "outputs": [
        {
          "output_type": "stream",
          "name": "stdout",
          "text": [
            "Number of training sentences: 776\n",
            "Number of testing sentences: 195\n"
          ]
        }
      ]
    },
    {
      "cell_type": "code",
      "metadata": {
        "colab": {
          "base_uri": "https://localhost:8080/",
          "height": 225
        },
        "id": "963ab108",
        "outputId": "ed500d68-57e5-48d2-d5b1-8811688e8ae8"
      },
      "source": [
        "from nltk.util import ngrams\n",
        "from collections import Counter\n",
        "import re\n",
        "\n",
        "# Function to clean and tokenize a sentence\n",
        "def clean_and_tokenize_sentence(sentence):\n",
        "    # Convert to lowercase\n",
        "    sentence = sentence.lower()\n",
        "    # Remove punctuation (you might want a more sophisticated approach depending on your needs)\n",
        "    sentence = re.sub(r'[^\\w\\s]', '', sentence)\n",
        "    # Tokenize into words\n",
        "    tokens = word_tokenize(sentence)\n",
        "    return tokens\n",
        "\n",
        "# Tokenize and clean the training sentences\n",
        "tokenized_train_sentences = [clean_and_tokenize_sentence(sentence) for sentence in train_sentences]\n",
        "\n",
        "# Flatten the list of tokenized sentences into a single list of words\n",
        "train_words = [word for sentence in tokenized_train_sentences for word in sentence]\n",
        "\n",
        "# Specify the value of N for N-grams (e.g., 2 for bigrams, 3 for trigrams)\n",
        "n_value = 2  # You can change this value\n",
        "\n",
        "# Create N-grams from the training words\n",
        "n_grams = list(ngrams(train_words, n_value))\n",
        "\n",
        "# Count the frequency of each N-gram\n",
        "n_gram_counts = Counter(n_grams)\n",
        "\n",
        "print(f\"Number of {n_value}-grams created: {len(n_grams)}\")\n",
        "print(f\"Most common {n_value}-grams:\")\n",
        "display(n_gram_counts.most_common(10)) # Display the 10 most common N-grams"
      ],
      "execution_count": null,
      "outputs": [
        {
          "output_type": "stream",
          "name": "stdout",
          "text": [
            "Number of 2-grams created: 27718\n",
            "Most common 2-grams:\n"
          ]
        },
        {
          "output_type": "display_data",
          "data": {
            "text/plain": [
              "[(('quy', 'định'), 144),\n",
              " (('cơ', 'quan'), 101),\n",
              " (('đăng', 'ký'), 99),\n",
              " (('sử', 'dụng'), 92),\n",
              " (('vi', 'phạm'), 77),\n",
              " (('phương', 'tiện'), 70),\n",
              " (('thông', 'báo'), 67),\n",
              " (('thông', 'tư'), 66),\n",
              " (('công', 'ty'), 60),\n",
              " (('trường', 'hợp'), 59)]"
            ]
          },
          "metadata": {}
        }
      ]
    },
    {
      "cell_type": "code",
      "source": [
        "import nltk\n",
        "from nltk.tokenize import word_tokenize\n",
        "\n",
        "# Download the punkt tokenizer and punkt_tab if you haven't already\n",
        "try:\n",
        "    nltk.download('punkt', quiet=True)\n",
        "    nltk.download('punkt_tab', quiet=True)\n",
        "except LookupError:\n",
        "    print(\"NLTK resource not found. Please check your internet connection and try again.\")\n",
        "\n",
        "\n",
        "if text_data:\n",
        "    # Tokenize the text data into words\n",
        "    try:\n",
        "        word_tokens = word_tokenize(text_data)\n",
        "        print(f\"Number of words after tokenization: {len(word_tokens)}\")\n",
        "        # print(word_tokens[:50]) # Uncomment to see the first 50 tokens\n",
        "    except LookupError:\n",
        "        print(\"Could not tokenize text. Ensure NLTK resources are downloaded correctly.\")\n",
        "else:\n",
        "    print(\"No text data available for tokenization.\")"
      ],
      "metadata": {
        "colab": {
          "base_uri": "https://localhost:8080/"
        },
        "id": "w-Iebhdlt5l8",
        "outputId": "ab9cbdcc-6e3f-4fa2-9d2e-7dffe0e9c61c"
      },
      "execution_count": null,
      "outputs": [
        {
          "output_type": "stream",
          "name": "stdout",
          "text": [
            "Number of words after tokenization: 37580\n"
          ]
        }
      ]
    },
    {
      "cell_type": "code",
      "source": [
        "print(word_tokens[:50])"
      ],
      "metadata": {
        "colab": {
          "base_uri": "https://localhost:8080/"
        },
        "id": "9ee11WVdupuo",
        "outputId": "eec6c8b1-4906-4d55-926c-c21df18b8912"
      },
      "execution_count": null,
      "outputs": [
        {
          "output_type": "stream",
          "name": "stdout",
          "text": [
            "['Chây', 'ì', 'nộp', 'phạt', 'nguội', '.', 'Hàng', 'chục', 'ngàn', 'phương', 'tiện', 'bị', 'ghi', 'hình', 'vi', 'phạm', 'luật', 'giao', 'thông', 'ở', 'TP.HCM', ',', 'bị', \"'bêu\", 'tên', \"'\", 'nhưng', 'chủ', 'vẫn', 'không', 'chịu', 'nộp', 'phạt', '.', 'Trên', 'cổng', 'thông', 'tin', 'điện', 'tử', 'của', 'Công', 'an', 'TP.HCM', '(', 'CATP', ')', ',', 'mục', 'thông']\n"
          ]
        }
      ]
    },
    {
      "cell_type": "code",
      "source": [],
      "metadata": {
        "id": "PZIumh-JvK8j"
      },
      "execution_count": null,
      "outputs": []
    },
    {
      "cell_type": "markdown",
      "metadata": {
        "id": "683b11cb"
      },
      "source": [
        "## Task\n",
        "Train an N-gram language model using the training data, calculate the perplexity of the testing data using the trained model, and present the perplexity score."
      ]
    },
    {
      "cell_type": "markdown",
      "metadata": {
        "id": "7db0738d"
      },
      "source": [
        "## Train n-gram model\n",
        "\n",
        "### Subtask:\n",
        "Create a function or class to represent the N-gram language model. This will involve using the `n_gram_counts` created in a previous step and potentially calculating probabilities or using smoothing techniques.\n"
      ]
    },
    {
      "cell_type": "markdown",
      "metadata": {
        "id": "be664273"
      },
      "source": [
        "**Reasoning**:\n",
        "Define the `NGramLanguageModel` class with an initialization method and a method to calculate the probability of a word given the preceding context, incorporating Laplace smoothing. Then, instantiate the class.\n",
        "\n"
      ]
    },
    {
      "cell_type": "code",
      "metadata": {
        "colab": {
          "base_uri": "https://localhost:8080/"
        },
        "id": "b77577a3",
        "outputId": "dbd53e4c-1c53-41b8-a3e8-b4fd88be2f0f"
      },
      "source": [
        "from collections import defaultdict\n",
        "\n",
        "class NGramLanguageModel:\n",
        "    def __init__(self, n_gram_counts, n_value):\n",
        "        self.n_gram_counts = n_gram_counts\n",
        "        self.n_value = n_value\n",
        "        # Create counts for the (n-1)-grams to use in probability calculation\n",
        "        self.context_counts = defaultdict(int)\n",
        "        for n_gram, count in n_gram_counts.items():\n",
        "            context = n_gram[:-1]\n",
        "            self.context_counts[context] += count\n",
        "\n",
        "        # Calculate the vocabulary size for smoothing\n",
        "        all_words = set()\n",
        "        for n_gram in n_gram_counts.keys():\n",
        "            all_words.update(n_gram)\n",
        "        self.vocab_size = len(all_words)\n",
        "\n",
        "    def get_probability(self, word, context):\n",
        "        # Ensure context has the correct length (n_value - 1)\n",
        "        if len(context) != self.n_value - 1:\n",
        "            raise ValueError(f\"Context must be of length {self.n_value - 1}\")\n",
        "\n",
        "        # Form the n-gram\n",
        "        n_gram = tuple(list(context) + [word])\n",
        "\n",
        "        # Get counts with Laplace smoothing\n",
        "        n_gram_count = self.n_gram_counts.get(n_gram, 0) + 1  # Add 1 for smoothing\n",
        "        context_count = self.context_counts.get(context, 0) + self.vocab_size # Add vocab_size for smoothing\n",
        "\n",
        "        # Calculate probability\n",
        "        if context_count == 0:\n",
        "            return 0.0  # Should not happen with smoothing if vocab_size > 0, but as a safeguard\n",
        "        return n_gram_count / context_count\n",
        "\n",
        "# Instantiate the NGramLanguageModel\n",
        "ngram_model = NGramLanguageModel(n_gram_counts, n_value)\n",
        "\n",
        "print(\"NGramLanguageModel instantiated successfully.\")"
      ],
      "execution_count": null,
      "outputs": [
        {
          "output_type": "stream",
          "name": "stdout",
          "text": [
            "NGramLanguageModel instantiated successfully.\n"
          ]
        }
      ]
    },
    {
      "cell_type": "markdown",
      "metadata": {
        "id": "4c1c9626"
      },
      "source": [
        "## Prepare testing data\n",
        "\n",
        "### Subtask:\n",
        "Clean and tokenize the testing sentences in the same way as the training sentences.\n"
      ]
    },
    {
      "cell_type": "markdown",
      "metadata": {
        "id": "cc0ba7f3"
      },
      "source": [
        "**Reasoning**:\n",
        "Clean and tokenize each sentence in the test_sentences list using the clean_and_tokenize_sentence function and store the result in a new list called tokenized_test_sentences.\n",
        "\n"
      ]
    },
    {
      "cell_type": "code",
      "metadata": {
        "colab": {
          "base_uri": "https://localhost:8080/",
          "height": 1000
        },
        "id": "8519d6d7",
        "outputId": "0554228c-2de1-446a-97d2-39ed172343f9"
      },
      "source": [
        "# Clean and tokenize the testing sentences\n",
        "tokenized_test_sentences = [clean_and_tokenize_sentence(sentence) for sentence in test_sentences]\n",
        "\n",
        "print(f\"Number of tokenized testing sentences: {len(tokenized_test_sentences)}\")\n",
        "# Display the first few tokenized test sentences\n",
        "display(tokenized_test_sentences[:5])"
      ],
      "execution_count": null,
      "outputs": [
        {
          "output_type": "stream",
          "name": "stdout",
          "text": [
            "Number of tokenized testing sentences: 195\n"
          ]
        },
        {
          "output_type": "display_data",
          "data": {
            "text/plain": [
              "[['để',\n",
              "  'nhận',\n",
              "  'lại',\n",
              "  'giấy',\n",
              "  'chứng',\n",
              "  'nhận',\n",
              "  'quyền',\n",
              "  'sở',\n",
              "  'hữuquyền',\n",
              "  'sử',\n",
              "  'dụng',\n",
              "  'bất',\n",
              "  'động',\n",
              "  'sản',\n",
              "  'sổ',\n",
              "  'đỏ',\n",
              "  'thì',\n",
              "  'những',\n",
              "  'người',\n",
              "  'được',\n",
              "  'hưởng',\n",
              "  'thừa',\n",
              "  'kế',\n",
              "  'phải',\n",
              "  'làm',\n",
              "  'thủ',\n",
              "  'tục',\n",
              "  'khai',\n",
              "  'nhận',\n",
              "  'thừa',\n",
              "  'kế'],\n",
              " ['tuy',\n",
              "  'nhiên',\n",
              "  'do',\n",
              "  'sổ',\n",
              "  'đỏ',\n",
              "  'đang',\n",
              "  'do',\n",
              "  'ngân',\n",
              "  'hàng',\n",
              "  'giữ',\n",
              "  'nên',\n",
              "  'một',\n",
              "  'trong',\n",
              "  'những',\n",
              "  'người',\n",
              "  'được',\n",
              "  'hưởng',\n",
              "  'thừa',\n",
              "  'kế',\n",
              "  'có',\n",
              "  'quyền',\n",
              "  'đề',\n",
              "  'nghị',\n",
              "  'ngân',\n",
              "  'hàng',\n",
              "  'cấp',\n",
              "  'bản',\n",
              "  'sao',\n",
              "  'sổ',\n",
              "  'đỏ',\n",
              "  'hợp',\n",
              "  'đồng',\n",
              "  'vay',\n",
              "  'tiền',\n",
              "  'hợp',\n",
              "  'đồng',\n",
              "  'thế',\n",
              "  'chấp',\n",
              "  'và',\n",
              "  'các',\n",
              "  'giấy',\n",
              "  'tờ',\n",
              "  'khác',\n",
              "  'có',\n",
              "  'liên',\n",
              "  'quan',\n",
              "  'đến',\n",
              "  'việc',\n",
              "  'vay',\n",
              "  'thế',\n",
              "  'chấp',\n",
              "  'tài',\n",
              "  'sản'],\n",
              " ['người',\n",
              "  'đề',\n",
              "  'nghị',\n",
              "  'phải',\n",
              "  'xuất',\n",
              "  'trình',\n",
              "  'giấy',\n",
              "  'chứng',\n",
              "  'tử',\n",
              "  'và',\n",
              "  'giấy',\n",
              "  'tờ',\n",
              "  'chứng',\n",
              "  'minh',\n",
              "  'mối',\n",
              "  'quan',\n",
              "  'hệ',\n",
              "  'thừa',\n",
              "  'kế',\n",
              "  'di',\n",
              "  'chúc',\n",
              "  'huyết',\n",
              "  'thống',\n",
              "  'hôn',\n",
              "  'nhân',\n",
              "  'với',\n",
              "  'người',\n",
              "  'chết',\n",
              "  'để',\n",
              "  'ngân',\n",
              "  'hàng',\n",
              "  'xác',\n",
              "  'định',\n",
              "  'tư',\n",
              "  'cách',\n",
              "  'pháp',\n",
              "  'lý',\n",
              "  'của',\n",
              "  'người',\n",
              "  'đề',\n",
              "  'nghị'],\n",
              " ['sau',\n",
              "  'khi',\n",
              "  'được',\n",
              "  'ngân',\n",
              "  'hàng',\n",
              "  'cung',\n",
              "  'cấp',\n",
              "  'bản',\n",
              "  'sao',\n",
              "  'có',\n",
              "  'công',\n",
              "  'chứng',\n",
              "  'chứng',\n",
              "  'thực',\n",
              "  'của',\n",
              "  'cơ',\n",
              "  'quan',\n",
              "  'có',\n",
              "  'thẩm',\n",
              "  'quyền',\n",
              "  'thì',\n",
              "  'những',\n",
              "  'người',\n",
              "  'thừa',\n",
              "  'kế',\n",
              "  'liên',\n",
              "  'hệ',\n",
              "  'với',\n",
              "  'cơ',\n",
              "  'quan',\n",
              "  'công',\n",
              "  'chứng',\n",
              "  'phòng',\n",
              "  'công',\n",
              "  'chứng',\n",
              "  'hoặc',\n",
              "  'văn',\n",
              "  'phòng',\n",
              "  'công',\n",
              "  'chứng',\n",
              "  'để',\n",
              "  'được',\n",
              "  'hướng',\n",
              "  'dẫn',\n",
              "  'và',\n",
              "  'thực',\n",
              "  'hiện',\n",
              "  'thủ',\n",
              "  'tục',\n",
              "  'khai',\n",
              "  'nhận',\n",
              "  'thừa',\n",
              "  'kế',\n",
              "  'lập',\n",
              "  'văn',\n",
              "  'bản',\n",
              "  'thỏa',\n",
              "  'thuận',\n",
              "  'phân',\n",
              "  'chia',\n",
              "  'di',\n",
              "  'sản',\n",
              "  'thừa',\n",
              "  'kế'],\n",
              " ['hồ',\n",
              "  'sơ',\n",
              "  'trên',\n",
              "  'cơ',\n",
              "  'sở',\n",
              "  'văn',\n",
              "  'bản',\n",
              "  'thỏa',\n",
              "  'thuận',\n",
              "  'phân',\n",
              "  'chia',\n",
              "  'di',\n",
              "  'sản',\n",
              "  'thừa',\n",
              "  'kế',\n",
              "  'những',\n",
              "  'người',\n",
              "  'được',\n",
              "  'thừa',\n",
              "  'kế',\n",
              "  'có',\n",
              "  'quyền',\n",
              "  'liên',\n",
              "  'hệ',\n",
              "  'với',\n",
              "  'ngân',\n",
              "  'hàng',\n",
              "  'để',\n",
              "  'thanh',\n",
              "  'toán',\n",
              "  'các',\n",
              "  'khoản',\n",
              "  'nợ',\n",
              "  'thực',\n",
              "  'hiện',\n",
              "  'thủ',\n",
              "  'tục',\n",
              "  'giải',\n",
              "  'chấp',\n",
              "  'và',\n",
              "  'nhận',\n",
              "  'lại',\n",
              "  'sổ',\n",
              "  'đỏ',\n",
              "  'trên',\n",
              "  'thực',\n",
              "  'tế',\n",
              "  'việc',\n",
              "  'thanh',\n",
              "  'toán',\n",
              "  'khoản',\n",
              "  'vay',\n",
              "  'có',\n",
              "  'thể',\n",
              "  'được',\n",
              "  'thực',\n",
              "  'hiện',\n",
              "  'ngay',\n",
              "  'cả',\n",
              "  'khi',\n",
              "  'chưa',\n",
              "  'có',\n",
              "  'văn',\n",
              "  'bản',\n",
              "  'thỏa',\n",
              "  'thuận',\n",
              "  'phân',\n",
              "  'chia',\n",
              "  'di',\n",
              "  'sản',\n",
              "  'thừa',\n",
              "  'kế',\n",
              "  'theo',\n",
              "  'quy',\n",
              "  'định',\n",
              "  'tại',\n",
              "  'khoản',\n",
              "  '4',\n",
              "  'điều',\n",
              "  '57',\n",
              "  'luật',\n",
              "  'công',\n",
              "  'chứng',\n",
              "  'văn',\n",
              "  'bản',\n",
              "  'thỏa',\n",
              "  'thuận',\n",
              "  'phân',\n",
              "  'chia',\n",
              "  'di',\n",
              "  'sản',\n",
              "  'đã',\n",
              "  'được',\n",
              "  'công',\n",
              "  'chứng',\n",
              "  'là',\n",
              "  'một',\n",
              "  'trong',\n",
              "  'các',\n",
              "  'căn',\n",
              "  'cứ',\n",
              "  'để',\n",
              "  'cơ',\n",
              "  'quan',\n",
              "  'nhà',\n",
              "  'nước',\n",
              "  'có',\n",
              "  'thẩm',\n",
              "  'quyền',\n",
              "  'đăng',\n",
              "  'ký',\n",
              "  'việc',\n",
              "  'chuyển',\n",
              "  'quyền',\n",
              "  'sử',\n",
              "  'dụng',\n",
              "  'đất',\n",
              "  'quyền',\n",
              "  'sở',\n",
              "  'hữu',\n",
              "  'tài',\n",
              "  'sản',\n",
              "  'cho',\n",
              "  'người',\n",
              "  'được',\n",
              "  'hưởng',\n",
              "  'di',\n",
              "  'sản']]"
            ]
          },
          "metadata": {}
        }
      ]
    },
    {
      "cell_type": "markdown",
      "metadata": {
        "id": "9a87340b"
      },
      "source": [
        "## Calculate perplexity\n",
        "\n",
        "### Subtask:\n",
        "Create a function to calculate the perplexity of the testing set based on the trained N-gram model.\n"
      ]
    },
    {
      "cell_type": "markdown",
      "metadata": {
        "id": "bf2aa0a0"
      },
      "source": [
        "**Reasoning**:\n",
        "Define the `calculate_perplexity` function as per the instructions, iterating through test sentences, calculating log probabilities for each word given its context using the trained model, and finally computing and returning the perplexity.\n",
        "\n"
      ]
    },
    {
      "cell_type": "code",
      "metadata": {
        "colab": {
          "base_uri": "https://localhost:8080/"
        },
        "id": "79d16c07",
        "outputId": "5f6cb029-5f7e-4fb2-e71a-f0b5373bfed9"
      },
      "source": [
        "import math\n",
        "\n",
        "def calculate_perplexity(ngram_model, tokenized_test_sentences):\n",
        "    log_prob_sum = 0.0\n",
        "    total_words = 0\n",
        "\n",
        "    # Check if n_value is at least 1. If n_value is 1, context length is 0\n",
        "    context_length = ngram_model.n_value - 1\n",
        "\n",
        "    for sentence in tokenized_test_sentences:\n",
        "        # We can only calculate probability for words starting from the n-th word (index n-1)\n",
        "        # as the first n-1 words form the initial context.\n",
        "        if len(sentence) >= ngram_model.n_value:\n",
        "            for i in range(ngram_model.n_value - 1, len(sentence)):\n",
        "                word = sentence[i]\n",
        "                context = tuple(sentence[i - context_length:i]) if context_length > 0 else ()\n",
        "\n",
        "                probability = ngram_model.get_probability(word, context)\n",
        "\n",
        "                # Add the logarithm of the probability to the sum\n",
        "                # Handle cases where probability is 0 to avoid log(0)\n",
        "                if probability > 0:\n",
        "                    log_prob_sum += math.log2(probability)\n",
        "                    total_words += 1\n",
        "                else:\n",
        "                    # If probability is 0, the log probability is negative infinity.\n",
        "                    # This typically indicates an issue with the model or data.\n",
        "                    # Depending on the desired behavior, you might want to skip this word,\n",
        "                    # assign a very small probability, or handle it differently.\n",
        "                    # For perplexity calculation, a 0 probability makes the product 0,\n",
        "                    # and log(0) is undefined. In practice, smoothing should prevent this,\n",
        "                    # but we include this check as a safeguard.\n",
        "                    print(f\"Warning: Encountered zero probability for word '{word}' with context '{context}'. Skipping word in perplexity calculation.\")\n",
        "\n",
        "\n",
        "    if total_words == 0:\n",
        "        return float('inf') # Return infinity if there are no words to evaluate\n",
        "\n",
        "    # Calculate average log probability\n",
        "    average_log_prob = log_prob_sum / total_words\n",
        "\n",
        "    # Calculate perplexity\n",
        "    perplexity = 2 ** (-average_log_prob)\n",
        "\n",
        "    return perplexity\n",
        "\n",
        "print(\"calculate_perplexity function defined.\")"
      ],
      "execution_count": null,
      "outputs": [
        {
          "output_type": "stream",
          "name": "stdout",
          "text": [
            "calculate_perplexity function defined.\n"
          ]
        }
      ]
    },
    {
      "cell_type": "markdown",
      "metadata": {
        "id": "1aecd63c"
      },
      "source": [
        "## Evaluate model\n",
        "\n",
        "### Subtask:\n",
        "Use the perplexity function to evaluate the trained N-gram model on the testing data.\n"
      ]
    },
    {
      "cell_type": "markdown",
      "metadata": {
        "id": "7bd98844"
      },
      "source": [
        "**Reasoning**:\n",
        "Use the defined `calculate_perplexity` function to evaluate the model on the test data and print the result.\n",
        "\n"
      ]
    },
    {
      "cell_type": "code",
      "metadata": {
        "colab": {
          "base_uri": "https://localhost:8080/"
        },
        "id": "8397ccf0",
        "outputId": "2e7784a4-7957-46d5-82de-ec830490d009"
      },
      "source": [
        "# Calculate the perplexity score\n",
        "perplexity_score = calculate_perplexity(ngram_model, tokenized_test_sentences)\n",
        "\n",
        "# Print the perplexity score\n",
        "print(f\"Perplexity of the testing data: {perplexity_score}\")"
      ],
      "execution_count": null,
      "outputs": [
        {
          "output_type": "stream",
          "name": "stdout",
          "text": [
            "Perplexity of the testing data: 723.8721228375051\n"
          ]
        }
      ]
    },
    {
      "cell_type": "markdown",
      "metadata": {
        "id": "0bfa6030"
      },
      "source": [
        "## Summary:\n",
        "\n",
        "### Data Analysis Key Findings\n",
        "\n",
        "*   An N-gram language model was successfully trained using the provided training data.\n",
        "*   The testing data was cleaned and tokenized, resulting in 2 tokenized testing sentences.\n",
        "*   The perplexity of the testing data was calculated using the trained N-gram model.\n",
        "*   The perplexity score for the testing data is approximately 723.87.\n",
        "\n",
        "### Insights or Next Steps\n",
        "\n",
        "*   A perplexity score of 723.87 suggests that the N-gram model has some difficulty predicting the next word in the test set, indicating potential areas for model improvement or the need for a larger training corpus.\n",
        "*   Consider experimenting with different N-gram values, smoothing techniques, or exploring more advanced language models (e.g., neural networks) to potentially achieve a lower perplexity score and better model performance.\n"
      ]
    },
    {
      "cell_type": "code",
      "source": [
        "# Specify the value of N for N-grams (e.g., 2 for bigrams, 3 for trigrams)\n",
        "n_value = 3  # You can change this value\n",
        "\n",
        "# Create N-grams from the training words\n",
        "n_grams = list(ngrams(train_words, n_value))\n",
        "\n",
        "# Count the frequency of each N-gram\n",
        "n_gram_counts = Counter(n_grams)\n",
        "\n",
        "print(f\"Number of {n_value}-grams created: {len(n_grams)}\")\n",
        "print(f\"Most common {n_value}-grams:\")\n",
        "display(n_gram_counts.most_common(10)) # Display the 10 most common N-grams"
      ],
      "metadata": {
        "colab": {
          "base_uri": "https://localhost:8080/",
          "height": 225
        },
        "id": "_Qe8_hfJ1XVo",
        "outputId": "a2a1be2a-dab8-4901-cf51-4923230b4309"
      },
      "execution_count": null,
      "outputs": [
        {
          "output_type": "stream",
          "name": "stdout",
          "text": [
            "Number of 3-grams created: 27717\n",
            "Most common 3-grams:\n"
          ]
        },
        {
          "output_type": "display_data",
          "data": {
            "text/plain": [
              "[(('sử', 'dụng', 'đất'), 53),\n",
              " (('đăng', 'ký', 'xe'), 46),\n",
              " (('giấy', 'chứng', 'nhận'), 41),\n",
              " (('có', 'hiệu', 'lực'), 41),\n",
              " (('quyền', 'sử', 'dụng'), 34),\n",
              " (('cấp', 'giấy', 'chứng'), 32),\n",
              " (('phải', 'thông', 'báo'), 31),\n",
              " (('hiệu', 'lực', 'từ'), 31),\n",
              " (('theo', 'quy', 'định'), 28),\n",
              " (('quy', 'định', 'tại'), 27)]"
            ]
          },
          "metadata": {}
        }
      ]
    },
    {
      "cell_type": "code",
      "source": [
        "# Instantiate the NGramLanguageModel\n",
        "ngram_model = NGramLanguageModel(n_gram_counts, n_value)\n",
        "\n",
        "print(\"NGramLanguageModel instantiated successfully.\")"
      ],
      "metadata": {
        "colab": {
          "base_uri": "https://localhost:8080/"
        },
        "id": "duXEWWfn1mug",
        "outputId": "871e1d29-2966-4964-f2f0-834669b300be"
      },
      "execution_count": null,
      "outputs": [
        {
          "output_type": "stream",
          "name": "stdout",
          "text": [
            "NGramLanguageModel instantiated successfully.\n"
          ]
        }
      ]
    },
    {
      "cell_type": "code",
      "source": [
        "# Calculate the perplexity score\n",
        "perplexity_score = calculate_perplexity(ngram_model, tokenized_test_sentences)\n",
        "\n",
        "# Print the perplexity score\n",
        "print(f\"Perplexity of the testing data: {perplexity_score}\")"
      ],
      "metadata": {
        "colab": {
          "base_uri": "https://localhost:8080/"
        },
        "id": "NzXX4DLN1xP4",
        "outputId": "9b3ed9a3-ea86-442f-cab9-3020f525b4f5"
      },
      "execution_count": null,
      "outputs": [
        {
          "output_type": "stream",
          "name": "stdout",
          "text": [
            "Perplexity of the testing data: 1375.8653395091749\n"
          ]
        }
      ]
    },
    {
      "cell_type": "code",
      "source": [],
      "metadata": {
        "id": "tmc9Hstx1wxg"
      },
      "execution_count": null,
      "outputs": []
    },
    {
      "cell_type": "code",
      "metadata": {
        "colab": {
          "base_uri": "https://localhost:8080/",
          "height": 426
        },
        "id": "6f7c822f",
        "outputId": "d8242d57-fd0e-4215-9d44-ba49f8278c5e"
      },
      "source": [
        "import matplotlib.pyplot as plt\n",
        "\n",
        "# Get the most common N-grams (e.g., top 20)\n",
        "top_n_grams = n_gram_counts.most_common(20)\n",
        "\n",
        "# Separate the N-grams and their counts for plotting\n",
        "n_grams, counts = zip(*top_n_grams)\n",
        "\n",
        "# Format the N-grams for better display on the plot\n",
        "formatted_n_grams = [' '.join(ngram) for ngram in n_grams]\n",
        "\n",
        "# Create the bar plot\n",
        "plt.figure(figsize=(12, 6))\n",
        "plt.bar(formatted_n_grams, counts)\n",
        "plt.xlabel(f'{n_value}-grams')\n",
        "plt.ylabel('Frequency')\n",
        "plt.title(f'Top 20 Most Common {n_value}-grams')\n",
        "plt.xticks(rotation=45, ha='right')\n",
        "plt.tight_layout()\n",
        "plt.show()"
      ],
      "execution_count": null,
      "outputs": [
        {
          "output_type": "display_data",
          "data": {
            "text/plain": [
              "<Figure size 1200x600 with 1 Axes>"
            ],
            "image/png": "[encoded data removed]"
          },
          "metadata": {}
        }
      ]
    },
    {
      "cell_type": "markdown",
      "source": [],
      "metadata": {
        "id": "HKvEvt5s5klF"
      }
    },
    {
      "cell_type": "markdown",
      "source": [
        "# Doing it at home"
      ],
      "metadata": {
        "id": "T4u5sasH5mEb"
      }
    },
    {
      "cell_type": "code",
      "source": [
        "import requests\n",
        "from collections import Counter, defaultdict\n",
        "import math\n",
        "\n",
        "# Download file\n",
        "url = \"https://raw.githubusercontent.com/binhvq/news-corpus/master/sample/demo-full.txt\"\n",
        "text = requests.get(url).text.strip().split(\"\\n\")\n",
        "\n",
        "print(\"Total sentences:\", len(text))\n",
        "print(\"Example:\", text[0])"
      ],
      "metadata": {
        "colab": {
          "base_uri": "https://localhost:8080/"
        },
        "id": "YFFW6PYB5n7R",
        "outputId": "59d0c08a-66bb-4d7b-d926-2989ceb7bab5"
      },
      "execution_count": 1,
      "outputs": [
        {
          "output_type": "stream",
          "name": "stdout",
          "text": [
            "Total sentences: 1000\n",
            "Example: Chây ì nộp phạt nguội.\n"
          ]
        }
      ]
    },
    {
      "cell_type": "code",
      "source": [
        "# Split train/dev/test\n",
        "train_sentences = text[:950]\n",
        "dev_sentences   = text[900:950]\n",
        "test_sentences  = text[951:1000]"
      ],
      "metadata": {
        "id": "lAg76emN5ro_"
      },
      "execution_count": 3,
      "outputs": []
    },
    {
      "cell_type": "code",
      "source": [
        "# Preprocessing: tokenize + add <s>, </s>\n",
        "def preprocess(sentences):\n",
        "    processed = []\n",
        "    for s in sentences:\n",
        "        tokens = s.strip().split()\n",
        "        tokens = [\"<s>\"] + tokens + [\"</s>\"]\n",
        "        processed.append(tokens)\n",
        "    return processed"
      ],
      "metadata": {
        "id": "lmyKWNDo6DJv"
      },
      "execution_count": 4,
      "outputs": []
    },
    {
      "cell_type": "code",
      "source": [
        "train_tokens = preprocess(train_sentences)\n",
        "dev_tokens   = preprocess(dev_sentences)\n",
        "test_tokens  = preprocess(test_sentences)"
      ],
      "metadata": {
        "id": "UlTtnUHi6SjC"
      },
      "execution_count": 5,
      "outputs": []
    },
    {
      "cell_type": "code",
      "source": [
        "print(\"Example:\", train_tokens[0])\n",
        "print(\"Example:\", dev_tokens[0])\n",
        "print(\"Example:\", test_tokens[0])"
      ],
      "metadata": {
        "colab": {
          "base_uri": "https://localhost:8080/"
        },
        "id": "obSpnAiY7ulW",
        "outputId": "9c4cb7c0-bf21-451d-c633-365a3928b3d9"
      },
      "execution_count": 15,
      "outputs": [
        {
          "output_type": "stream",
          "name": "stdout",
          "text": [
            "Example: ['<s>', 'Chây', 'ì', 'nộp', 'phạt', 'nguội.', '</s>']\n",
            "Example: ['<s>', 'Đây', 'là', 'một', 'trong', 'những', 'bất', 'động', 'sản', 'của', 'anh', 'ta,', 'mà', 'chỉ', 'cần', 'một', 'chữ', 'ký', 'thôi,', 'biết', 'đâu', 'nó', 'sẽ', 'là', 'của', 'tôi', 'hết.', '</s>']\n",
            "Example: ['<s>', 'Nếu', 'quyền', 'sử', 'dụng', 'đất', 'là', 'tài', 'sản', 'chung', 'của', 'vợ', 'chồng', 'ông', 'bà', 'nội', 'bạn', 'thì', 'khi', 'ông', 'qua', 'đời', 'mà', 'không', 'để', 'lại', 'di', 'chúc', 'thì', 'một', 'nửa', 'giá', 'trị', 'mảnh', 'đất', 'và', 'căn', 'nhà', 'này', 'sẽ', 'thuộc', 'về', 'bà', 'nội', 'bạn,', '1/2', 'quyền', 'sử', 'dụng', 'đất', 'sẽ', 'thuộc', 'về', 'ông', 'nội', 'chồng', 'bạn.', '</s>']\n"
          ]
        }
      ]
    },
    {
      "cell_type": "code",
      "source": [
        "# =====================\n",
        "# 2. Build n-gram counts\n",
        "# =====================\n",
        "def build_ngram_counts(corpus, n):\n",
        "    ngram_counts = Counter()\n",
        "    context_counts = Counter()\n",
        "    vocab = set()\n",
        "\n",
        "    for tokens in corpus:\n",
        "        for w in tokens:\n",
        "            vocab.add(w)\n",
        "        for i in range(len(tokens)-n+1):\n",
        "            ngram = tuple(tokens[i:i+n])\n",
        "            ngram_counts[ngram] += 1\n",
        "            if n > 1:\n",
        "                context = ngram[:-1]\n",
        "                context_counts[context] += 1\n",
        "    return ngram_counts, context_counts, vocab"
      ],
      "metadata": {
        "id": "pSXaLJKV6UN8"
      },
      "execution_count": 6,
      "outputs": []
    },
    {
      "cell_type": "code",
      "source": [
        "# Build unigram, bigram, trigram\n",
        "uni_counts, _, vocab = build_ngram_counts(train_tokens, 1)\n",
        "bi_counts, bi_contexts, _ = build_ngram_counts(train_tokens, 2)\n",
        "tri_counts, tri_contexts, _ = build_ngram_counts(train_tokens, 3)\n",
        "V = len(vocab)\n",
        "print(\"Vocabulary size:\", V)"
      ],
      "metadata": {
        "colab": {
          "base_uri": "https://localhost:8080/"
        },
        "id": "cFOjmJKr6XMv",
        "outputId": "1e4d808b-3a74-4859-d339-923b0c8ace31"
      },
      "execution_count": 7,
      "outputs": [
        {
          "output_type": "stream",
          "name": "stdout",
          "text": [
            "Vocabulary size: 3725\n"
          ]
        }
      ]
    },
    {
      "cell_type": "code",
      "source": [
        "def mle_prob(ngram, ngram_counts, context_counts):\n",
        "    if len(ngram) == 1:  # unigram\n",
        "        total = sum(ngram_counts.values())\n",
        "        return ngram_counts.get(ngram, 0) / total\n",
        "    context = ngram[:-1]\n",
        "    if context_counts.get(context, 0) == 0:\n",
        "        return 0.0\n",
        "    return ngram_counts.get(ngram, 0) / context_counts[context]\n",
        "\n",
        "def add_one_prob(ngram, ngram_counts, context_counts, V):\n",
        "    if len(ngram) == 1:  # unigram\n",
        "        total = sum(ngram_counts.values())\n",
        "        return (ngram_counts.get(ngram, 0) + 1) / (total + V)\n",
        "    context = ngram[:-1]\n",
        "    return (ngram_counts.get(ngram, 0) + 1) / (context_counts.get(context, 0) + V)"
      ],
      "metadata": {
        "id": "8MxWUTJf6Z9X"
      },
      "execution_count": 8,
      "outputs": []
    },
    {
      "cell_type": "code",
      "source": [
        "# =====================\n",
        "# 4. Sentence probability and perplexity\n",
        "# =====================\n",
        "def sentence_prob(tokens, n, ngram_counts, context_counts, V, smoothing=False):\n",
        "    p = 1.0\n",
        "    for i in range(len(tokens)-n+1):\n",
        "        ngram = tuple(tokens[i:i+n])\n",
        "        if smoothing:\n",
        "            prob = add_one_prob(ngram, ngram_counts, context_counts, V)\n",
        "        else:\n",
        "            prob = mle_prob(ngram, ngram_counts, context_counts)\n",
        "        p *= prob\n",
        "    return p\n",
        "\n",
        "def perplexity(corpus, n, ngram_counts, context_counts, V, smoothing=False):\n",
        "    log_prob = 0\n",
        "    word_count = 0\n",
        "    for tokens in corpus:\n",
        "        for i in range(len(tokens)-n+1):\n",
        "            ngram = tuple(tokens[i:i+n])\n",
        "            if smoothing:\n",
        "                prob = add_one_prob(ngram, ngram_counts, context_counts, V)\n",
        "            else:\n",
        "                prob = mle_prob(ngram, ngram_counts, context_counts)\n",
        "            if prob > 0:\n",
        "                log_prob += math.log(prob)\n",
        "            else:\n",
        "                return float(\"inf\")  # unseen case in MLE\n",
        "            word_count += 1\n",
        "    return math.exp(-log_prob / word_count)"
      ],
      "metadata": {
        "id": "KPNoNdCG6hI4"
      },
      "execution_count": 9,
      "outputs": []
    },
    {
      "cell_type": "code",
      "source": [
        "# =====================\n",
        "# 5. Run on dev and test\n",
        "# =====================\n",
        "for name, (ngrams, ctx) in {\n",
        "    \"Unigram\": (uni_counts, None),\n",
        "    \"Bigram\": (bi_counts, bi_contexts),\n",
        "    \"Trigram\": (tri_counts, tri_contexts)\n",
        "}.items():\n",
        "    print(f\"\\n=== {name} ===\")\n",
        "    # Dev set\n",
        "    ppl_dev_mle = perplexity(dev_tokens, len(list(ngrams.keys())[0]), ngrams, ctx or {}, V, smoothing=False)\n",
        "    ppl_dev_smooth = perplexity(dev_tokens, len(list(ngrams.keys())[0]), ngrams, ctx or {}, V, smoothing=True)\n",
        "    # Test set\n",
        "    ppl_test_mle = perplexity(test_tokens, len(list(ngrams.keys())[0]), ngrams, ctx or {}, V, smoothing=False)\n",
        "    ppl_test_smooth = perplexity(test_tokens, len(list(ngrams.keys())[0]), ngrams, ctx or {}, V, smoothing=True)\n",
        "\n",
        "    print(\"Dev perplexity (MLE):\", ppl_dev_mle)\n",
        "    print(\"Dev perplexity (Laplace):\", ppl_dev_smooth)\n",
        "    print(\"Test perplexity (MLE):\", ppl_test_mle)\n",
        "    print(\"Test perplexity (Laplace):\", ppl_test_smooth)\n"
      ],
      "metadata": {
        "colab": {
          "base_uri": "https://localhost:8080/"
        },
        "id": "W9GyipzW6k1O",
        "outputId": "87629199-0d1b-416c-b3f9-d67c5bd63c94"
      },
      "execution_count": 10,
      "outputs": [
        {
          "output_type": "stream",
          "name": "stdout",
          "text": [
            "\n",
            "=== Unigram ===\n",
            "Dev perplexity (MLE): 1068.4731904643268\n",
            "Dev perplexity (Laplace): 1052.9805660155466\n",
            "Test perplexity (MLE): inf\n",
            "Test perplexity (Laplace): 1137.3413065279196\n",
            "\n",
            "=== Bigram ===\n",
            "Dev perplexity (MLE): 13.533306363555374\n",
            "Dev perplexity (Laplace): 1150.3727961877773\n",
            "Test perplexity (MLE): inf\n",
            "Test perplexity (Laplace): 1238.5586575852863\n",
            "\n",
            "=== Trigram ===\n",
            "Dev perplexity (MLE): 1.6880015346229569\n",
            "Dev perplexity (Laplace): 1667.2822102062776\n",
            "Test perplexity (MLE): inf\n",
            "Test perplexity (Laplace): 2231.1866473228856\n"
          ]
        }
      ]
    },
    {
      "cell_type": "code",
      "source": [
        "# =====================\n",
        "# 6. Example: probability of a dev sentence\n",
        "# =====================\n",
        "sample_sentence = dev_tokens[49]\n",
        "p_uni = sentence_prob(sample_sentence, 1, uni_counts, {}, V, smoothing=True)\n",
        "p_bi  = sentence_prob(sample_sentence, 2, bi_counts, bi_contexts, V, smoothing=True)\n",
        "p_tri = sentence_prob(sample_sentence, 3, tri_counts, tri_contexts, V, smoothing=True)\n",
        "\n",
        "print(\"\\nSample sentence:\", \" \".join(sample_sentence))\n",
        "print(\"Probability (Unigram + Laplace):\", p_uni)\n",
        "print(\"Probability (Bigram + Laplace):\", p_bi)\n",
        "print(\"Probability (Trigram + Laplace):\", p_tri)"
      ],
      "metadata": {
        "colab": {
          "base_uri": "https://localhost:8080/"
        },
        "id": "ghs4IEs76m4P",
        "outputId": "bf595b7b-9bc8-4b54-992e-dcfc6207f2d8"
      },
      "execution_count": 13,
      "outputs": [
        {
          "output_type": "stream",
          "name": "stdout",
          "text": [
            "\n",
            "Sample sentence: <s> Quyền sử dụng đất mà vợ, chồng có được sau khi kết hôn là tài sản chung của vợ chồng, trừ trường hợp vợ hoặc chồng được thừa kế riêng, được tặng cho riêng hoặc có được thông qua giao dịch bằng tài sản riêng . </s>\n",
            "Probability (Unigram + Laplace): 8.238553275188311e-134\n",
            "Probability (Bigram + Laplace): 1.0130309776307113e-135\n",
            "Probability (Trigram + Laplace): 2.804365980925259e-146\n"
          ]
        }
      ]
    },
    {
      "cell_type": "code",
      "source": [],
      "metadata": {
        "id": "KgvEua5e6qN_"
      },
      "execution_count": null,
      "outputs": []
    }
  ]
}